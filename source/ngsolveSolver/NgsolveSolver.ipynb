{
 "cells": [
  {
   "attachments": {},
   "cell_type": "markdown",
   "metadata": {},
   "source": [
    "# Ngsolve solver\n",
    "### Code的位置\n",
    "* 在程序的package中位于ngsolve/python/krylovspace.py中\n",
    "### package的调用\n",
    "* from ngsolve.krylovspace import CGSolver\n",
    "### Solver的parent class是LinearSolver，后续的iterator都是继承自这个class"
   ]
  },
  {
   "cell_type": "markdown",
   "metadata": {},
   "source": [
    "## Linear Solver的构建\n",
    "* 本质上是一个矩阵\n",
    "* 核心的函数是 _SolveImpl，这里只是个抽象的成员函数，后续CGSolver改写了这个成员函数"
   ]
  },
  {
   "cell_type": "code",
   "execution_count": 23,
   "metadata": {},
   "outputs": [],
   "source": [
    "from ngsolve import BaseMatrix, Preconditioner, BitArray, BaseVector\n",
    "from typing import Optional, Callable, Union\n",
    "from netgen.libngpy._meshing import _PushStatus, _GetStatus, _SetThreadPercentage\n",
    "# BaseMatrix类\n",
    "class LinearSolver(BaseMatrix):\n",
    "    \"\"\"Base class for linear solvers.\n",
    "\"\"\" \n",
    "    name = \"LinearSolver\"\n",
    "    def __init__(self, mat : BaseMatrix,\n",
    "                 pre : Optional[Preconditioner] = None,\n",
    "                 freedofs : Optional[BitArray] = None,\n",
    "                 tol : float = None,\n",
    "                 maxiter : int = 100,\n",
    "                 atol : float = None,\n",
    "                 callback : Optional[Callable[[int, float], None]] = None,\n",
    "                 callback_sol : Optional[Callable[[BaseVector], None]] = None,\n",
    "                 printrates : bool = False):\n",
    "        super().__init__()\n",
    "        if atol is None and tol is None:\n",
    "            tol = 1e-12\n",
    "        self.mat = mat\n",
    "        assert (freedofs is None) != (pre is None) # either pre or freedofs must be given\n",
    "        self.pre = pre if pre else Projector(freedofs, True)\n",
    "        self.tol = tol\n",
    "        self.atol = atol\n",
    "        self.maxiter = maxiter\n",
    "        self.callback = callback\n",
    "        self.callback_sol = callback_sol\n",
    "        self.printrates = printrates\n",
    "        self.residuals = []\n",
    "        self.iterations = 0\n",
    "        \n",
    "    def Solve(self, rhs : BaseVector, sol : Optional[BaseVector] = None,\n",
    "              initialize : bool = True) -> BaseVector:\n",
    "        self.iterations = 0\n",
    "        self.residuals = []\n",
    "        old_status = _GetStatus()\n",
    "        _PushStatus(self.name + \" Solve\")\n",
    "        _SetThreadPercentage(0)\n",
    "        if sol is None:\n",
    "            sol = rhs.CreateVector()\n",
    "            initialize = True\n",
    "        if initialize:\n",
    "            sol[:] = 0\n",
    "        self.sol = sol\n",
    "        self._SolveImpl(rhs=rhs, sol=sol)\n",
    "        if old_status[0] != \"idle\":\n",
    "            _PushStatus(old_status[0])\n",
    "            _SetThreadPercentage(old_status[1])\n",
    "        return sol"
   ]
  },
  {
   "cell_type": "markdown",
   "metadata": {},
   "source": [
    "## CGSolver继承自LinearSolver\n",
    "* 参数输入应该是 mat = ..., pre = ..., freedofs = ...,\n",
    "* 改写了 _SolveImpl，使用了\n",
    "    * 在 $A$-内积下寻找共轭方向（方向彼此正交）。\n",
    "    * 在这些方向上逐步最小化二次型 $\\|A x-b\\|_2^2$ 。"
   ]
  },
  {
   "cell_type": "markdown",
   "metadata": {},
   "source": [
    "### _SolveImpl 的解释\n",
    "* $r_0=b-A x_0: \\mathrm{d}$ 存储当前的残差向量 $r_0$ 。\n",
    "* $w_0=M^{-1} r_0: \\mathrm{w}$ 存储预处理后的残差向量, 其中 $M$ 是预条件矩阵（可选)。\n",
    "* $s$ 初始为 $w_0$, 表示搜索方向 $d_0$ 。\n",
    "* $w d n$ 是 $r_0^{\\top} M^{-1} r_0$, 用于计算步长和判断是否达到收玫条件。\n",
    "\n",
    "### 预处理矩阵M应当是A的近似，self.pre则是M的逆的作用\n",
    "* 这样$w_0 = M^{-1}r_0=M^{-1}b-M^{-1}A x_0$ 相当于求解 $M^{-1}A y = M^{-1}b$这个预处理的方程"
   ]
  },
  {
   "cell_type": "markdown",
   "metadata": {},
   "source": [
    "更新解和残差\n",
    "\\begin{gathered}\n",
    "x_{k+1}=x_k+\\alpha_k d_k \\\\\n",
    "r_{k+1}=r_k-\\alpha_k A d_k\n",
    "\\end{gathered}\n",
    "更新共轭系数和搜索方向：（$\\beta$的分子是新的步长分子）\n",
    "\\begin{aligned}\n",
    "& \\beta_k=\\frac{r_{k+1}^{\\top} M^{-1} r_{k+1}}{r_k^{\\top} M^{-1} r_k} \\\\\n",
    "& d_{k+1}=r_{k+1}+\\beta_k d_k\n",
    "\\end{aligned}"
   ]
  },
  {
   "cell_type": "code",
   "execution_count": 27,
   "metadata": {},
   "outputs": [],
   "source": [
    "class CGSolver(LinearSolver):\n",
    "    def __init__(self, *args,\n",
    "                 conjugate : bool = False,\n",
    "                 abstol : float = None,\n",
    "                 maxsteps : int = None,\n",
    "                 printing : bool = False,\n",
    "                 **kwargs):\n",
    "        if printing:\n",
    "            print(\"WARNING: printing is deprecated, use printrates instead!\")\n",
    "            kwargs[\"printrates\"] = printing\n",
    "        if abstol is not None:\n",
    "            print(\"WARNING: abstol is deprecated, use atol instead!\")\n",
    "            kwargs[\"abstol\"] = abstol\n",
    "        if maxsteps is not None:\n",
    "            print(\"WARNING: maxsteps is deprecated, use maxiter instead!\")\n",
    "            kwargs[\"maxiter\"] = maxsteps\n",
    "        super().__init__(*args, **kwargs)\n",
    "\n",
    "    def _SolveImpl(self, rhs : BaseVector, sol : BaseVector):\n",
    "        d, w, s = [sol.CreateVector() for i in range(3)]\n",
    "        conjugate = self.conjugate\n",
    "        d.data = rhs - self.mat * sol\n",
    "        w.data = self.pre * d\n",
    "        s.data = w\n",
    "        wdn = w.InnerProduct(d, conjugate=conjugate)\n",
    "        if self.CheckResidual(sqrt(abs(wdn))):\n",
    "            return\n",
    "\n",
    "        while True:\n",
    "            w.data = self.mat * s\n",
    "            wd = wdn\n",
    "            as_s = s.InnerProduct(w, conjugate=conjugate)       # 计算步长分母 \n",
    "            if as_s == 0 or wd == 0: break\n",
    "            alpha = wd / as_s\n",
    "            sol.data += alpha * s                               # 更新解，沿着搜索方向走alpha\n",
    "            d.data += (-alpha) * w                              # 更新残差\n",
    "\n",
    "            w.data = self.pre * d\n",
    "\n",
    "            wdn = w.InnerProduct(d, conjugate=conjugate)        # 计算新的步长分子\n",
    "            if self.CheckResidual(sqrt(abs(wdn))):\n",
    "                return\n",
    "\n",
    "            beta = wdn / wd\n",
    "            s *= beta\n",
    "            s.data += w"
   ]
  },
  {
   "cell_type": "markdown",
   "metadata": {},
   "source": [
    "CG 不需要显式构造 Arnoldi 或 Lanczos 基向量"
   ]
  },
  {
   "cell_type": "markdown",
   "metadata": {},
   "source": [
    "### "
   ]
  },
  {
   "cell_type": "code",
   "execution_count": 3,
   "metadata": {},
   "outputs": [],
   "source": [
    "IO = True\n",
    "class GatherData():\n",
    "    def __init__(self,IO) -> None:\n",
    "        self.iter = 0\n",
    "        self.residue = 0\n",
    "        self.IO = IO\n",
    "\n",
    "    def collect(self,iters,residue):\n",
    "        self.iter = max(self.iter,iters)\n",
    "        self.residue = max(self.residue,residue)\n",
    "        if self.IO:\n",
    "            print(\"{} CG ends with iters {} and residue {}\".format(LogTime(),iters,residue))\n",
    "    \n",
    "    def print(self):\n",
    "        print('max CG iters = {} and max residue = {}'.format(self.iter,self.residue))\n",
    "N_Iter_CG_Info = GatherData(IO) "
   ]
  },
  {
   "cell_type": "markdown",
   "metadata": {},
   "source": [
    "## CGSolver的使用\n",
    "* CGSolver(mat = lhs_Niter.mat, pre = Pre.mat, maxiter=100, printrates=False,callback=N_Iter_CG_Info.collect)\n",
    "* 输入参数\n",
    "    * 第一个是一个矩阵\n",
    "    * 第二个是预处理矩阵\n",
    "    * callback："
   ]
  },
  {
   "cell_type": "markdown",
   "metadata": {},
   "source": [
    "Preconditioner(lhs_Niter,'multigrid')"
   ]
  },
  {
   "cell_type": "code",
   "execution_count": null,
   "metadata": {},
   "outputs": [],
   "source": []
  },
  {
   "cell_type": "code",
   "execution_count": null,
   "metadata": {},
   "outputs": [],
   "source": []
  }
 ],
 "metadata": {
  "kernelspec": {
   "display_name": "Python 3 (ipykernel)",
   "language": "python",
   "name": "python3"
  },
  "language_info": {
   "codemirror_mode": {
    "name": "ipython",
    "version": 3
   },
   "file_extension": ".py",
   "mimetype": "text/x-python",
   "name": "python",
   "nbconvert_exporter": "python",
   "pygments_lexer": "ipython3",
   "version": "3.8.10"
  }
 },
 "nbformat": 4,
 "nbformat_minor": 4
}
