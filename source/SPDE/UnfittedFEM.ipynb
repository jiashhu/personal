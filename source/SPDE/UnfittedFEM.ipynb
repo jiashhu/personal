{
 "cells": [
  {
   "cell_type": "markdown",
   "metadata": {},
   "source": [
    "# UnfittedFEM"
   ]
  },
  {
   "cell_type": "markdown",
   "metadata": {},
   "source": [
    "* 所有的激活单元\n",
    "\\begin{align*}\n",
    "\\mathcal{T}_{h,e}^n = \\{T\\in \\mathcal{T}_h: \\textrm{dist}(x, \\Omega^n)\\le \\delta \\exists x\\in \\bar T\\}\n",
    "\\end{align*}\n",
    "* 所有激活单元的所有内部边 ${\\mathcal{F}} _{h,e}^n$\n",
    "* 所有的内部单元\n",
    "\\begin{align*}\n",
    "\\mathcal{T}_{h,i}^n  = \\{T\\in \\mathcal{T}_{h,e}^n: \\textrm{int}(T)\\subset \\Omega^n\\}\n",
    "\\end{align*}\n",
    "* 内部单元的所有内部边 ${\\mathcal{F}} _{h,i}^n$\n",
    "* 边界的带状区域的单元 ${\\mathcal{T}}_{\\Gamma}^n$，以及这个带状区域的所有内部边和内边界$\\mathcal{F}_{ \\Gamma}^n$\n"
   ]
  },
  {
   "cell_type": "markdown",
   "metadata": {},
   "source": [
    "### Stokes方程的特别设定"
   ]
  },
  {
   "cell_type": "markdown",
   "metadata": {},
   "source": [
    "* 速度空间 $V^n_h$; 压力空间 $Q^n_h$；压力满足\n",
    "\\begin{align*}\n",
    "Q_h^n = \\{ \\exists q\\in Q_h s.t. \\int_{ \\Omega_h^n} q dx = 0\\}.\n",
    "\\end{align*}\n",
    "意思是，每个$Q_h^n$中的元素，存在一个$Q_h$中的有限元函数延拓，并且这个元素本身在内部单元上总积分为0."
   ]
  },
  {
   "cell_type": "markdown",
   "metadata": {},
   "source": [
    "* Nitsche-type norms \n",
    "\\begin{align*}\n",
    "\\| v\\|_n^2 := \\| \\nabla v\\|_{ \\Omega^n}^2 + h^{-1} \\| v\\|_{ \\Gamma^n}^2 + h \\| \\nabla v\\|_{ \\Gamma^n}^2\n",
    "\\end{align*}\n",
    "根据迹不等式，Nitsche norm中的第三项是可以被第一项控制住的，这里写上它只是为了方便。\n",
    "* extended norms\n",
    "\\begin{align*}\n",
    "\\| v\\|_{n,e}^2 := \\| \\nabla v\\|_{ \\Omega^n_e}^2 + \\| v\\|_n^2\n",
    "\\end{align*}"
   ]
  },
  {
   "cell_type": "markdown",
   "metadata": {},
   "source": [
    "### 迹不等式（Wu） 单元边界如何被单元内部控制住\n",
    "* 迹定理：对有界Lipschitz区域 $\\Omega$, $1\\le p\\le \\infty$，存在有界线性的迹算子 $\\gamma_0: W^{1,p}( \\Omega)\\to L^p(\\partial \\Omega)$ 以及常数 $C>0$ 使得\n",
    "\\begin{align*}\n",
    "\\| \\gamma_0 u\\|_{L^p(\\partial \\Omega)}\\le C \\| u\\|_{L^p( \\Omega)}^{1-1/p} \\| u\\|_{W^{1,p}( \\Omega)}^{1/p},\\quad \\forall u\\in W^{1,p}( \\Omega).\n",
    "\\end{align*}\n",
    "\n",
    "通过在参考单元上使用迹定理，再考虑进尺度变化的Jacobian以及L2以及H1半范的变换规律，可以证明得到下面的局部迹不等式。\n",
    "\n",
    "* 局部迹不等式(定理4.16) For $v\\in H^1(K)$, we have\n",
    "\\begin{align*}\n",
    "\\| v\\|_{L^2(\\partial K)} \n",
    "&\\lesssim h_K^{-\\frac12} \\| v\\|_{L^2(K)} +  \\| \\nabla v\\|_{L^2(K)}^{\\frac12} \\|v\\|_{L^2(K)}^{\\frac12}\\\\\n",
    "&\\lesssim h_K^{-\\frac12} \\| v\\|_{L^2(K)} + h^{\\frac12}_K \\| \\nabla v\\|_{L^2(K)}.\n",
    "\\end{align*}\n",
    "第二步用了young不等式。如果直接用逆不等式，得到一个更大的界\n",
    "\\begin{align*}\n",
    "\\| v\\|_{L^2(\\partial K)} \n",
    "&\\lesssim h_K^{-\\frac12} \\| v\\|_{L^2(K)}.\n",
    "\\end{align*}"
   ]
  },
  {
   "cell_type": "markdown",
   "metadata": {},
   "source": [
    "* 压力的范数\n",
    "weighted $H^1$-seminorm\n",
    "\\begin{align*}\n",
    "\\| q\\|_{n,i}^2 := h^2 \\sum_{T\\in \\mathcal{T}^n_i} \\| \\nabla q\\|_T^2 + h \\sum_{ F\\in {\\mathcal{F}} ^n_i} \\| [q]\\|_F^2\n",
    "\\end{align*}\n",
    "逐个单元上的weighted $H^1$-seminorm以及单元之间edge上的跳量\n",
    "\n",
    "#### 这个weighted $H^1$-seminorm比 $L^2$范数更小"
   ]
  },
  {
   "cell_type": "markdown",
   "metadata": {},
   "source": [
    "$\\| q\\|_{n,i}\\sim \\| q\\|_{L^2}$"
   ]
  },
  {
   "cell_type": "markdown",
   "metadata": {},
   "source": [
    "#### Inf-sup条件\n",
    "\n",
    "\\begin{align*}\n",
    "\\| v\\|_{n,e}\\lesssim \\| q\\|_{n,i}\n",
    "\\end{align*}\n",
    "\\begin{align*}\n",
    "\\| q\\|_{n,i}^2 \\le b^n(v,q) = \\int_{ \\Omega^n} \\textrm{div}v q - \\int_{ \\Gamma^n} v\\cdot n q\n",
    "\\end{align*}\n",
    "正常来说，inf-sup条件是说对任意的q，都存在一个v满足v的$H^1$范数小于等于q的L2范数。标准的inf-sup条件通过如下的定理来证明：存在$v$边界为0，并且 $\\textrm{div}(v) = q$。\n",
    "这样就找到了$v$使得它的$H^1$范数等于q的L2范数。"
   ]
  },
  {
   "cell_type": "markdown",
   "metadata": {},
   "source": [
    "Theorem 6.3. Let $\\Omega \\subset \\mathbb{R}^n$ be a bounded connected domain with Lipschitz continuous boundary. Then the mapping\n",
    "\n",
    "$$\n",
    "\\begin{aligned}\n",
    "\\operatorname{div}: V^{\\perp} & \\longrightarrow L_{2,0}(\\Omega) \\\\\n",
    "v & \\longmapsto \\operatorname{div} v\n",
    "\\end{aligned}\n",
    "$$\n",
    "is an isomorphism. Moreover, for any $q \\in L_2(\\Omega)$ with $\\int_{\\Omega} q d x=0$, there exists a function $v \\in V^{\\perp} \\subset H_0^1(\\Omega)^n$ with\n",
    "$$\n",
    "\\operatorname{div} v=q \\quad \\text { and } \\quad\\|v\\|_{1, \\Omega} \\leq c\\|q\\|_{0, \\Omega}\n",
    "$$\n",
    "where $c=c(\\Omega)$ is a constant."
   ]
  },
  {
   "cell_type": "markdown",
   "metadata": {},
   "source": [
    "#### 现在unfitted情况下 $v$ 的范数增长到了extended的范数，但是右端的压力范数降低到了一个内部单元的weighted范数\n",
    "* 问题：一般的unfitted的inf-sup条件是怎么证明的？\n",
    "* 进一步：\n",
    "\\begin{align*}\n",
    "\\| v\\|_{ \\Omega^n}\\lesssim h \\| q\\|_{n,i}\n",
    "\\end{align*}\n",
    "这是一个非常不寻常的结论"
   ]
  },
  {
   "cell_type": "markdown",
   "metadata": {},
   "source": [
    "根据inf-sup条件，双线性型b的部分可以控制压力的interior部分，额外部分用penalty控制\n",
    "\\begin{align*}\n",
    "\\theta \\| q\\|_{ \\Omega^n}\\le \\sup_{v\\in V^n} \\frac{b^n(v,q)}{ \\| v\\|_{n,e}} + |q|_{J^n}\n",
    "\\end{align*}"
   ]
  },
  {
   "cell_type": "markdown",
   "metadata": {},
   "source": [
    "Strong form in $ \\Omega^n$\n",
    "\\begin{align*}\n",
    "\\partial_t u - \\Delta u + w\\cdot \\nabla u + \\nabla p &= 0\\\\\n",
    "\\nabla\\cdot u& = 0.\n",
    "\\end{align*}\n",
    "Variational form，利用精确解满足的u在边界上是0来简化第二个方程中的u.n的项\n",
    "\\begin{align*}\n",
    "(\\partial_t u,v)_{ \\Omega^n} + (\\nabla u,\\nabla v)_{ \\Omega^n} - \\int_{ \\Gamma^n} \\partial_n u \\cdot v\n",
    "+ (w\\cdot \\nabla u,v)_{ \\Omega^n} + (\\nabla p,v)_{ \\Omega^n} &= 0\\\\\n",
    "-(u,\\nabla p) & = 0.\n",
    "\\end{align*}"
   ]
  },
  {
   "cell_type": "markdown",
   "metadata": {},
   "source": [
    "### 稳定化\n",
    "\n",
    "* 对称的边界项\n",
    "\\begin{align*}\n",
    "-\\int_{ \\Gamma^n} \\partial_n v u\n",
    "\\end{align*}\n",
    "* 零边界条件的penalty项\n",
    "\\begin{align*}\n",
    "h^{-1} \\int_{ \\Gamma^n} u v\n",
    "\\end{align*}\n",
    "* 带状区域的所有内部边和内边界$ {\\mathcal{F}} _{ \\Gamma}^n$中edge上的penalty项\n",
    "\\begin{align*}\n",
    "s^n(u,v) = \\sum_{F\\in {\\mathcal{F}} _{ \\Gamma}^n} \\sum_{k=1} h^{2k-  1}\\int_F [ \\partial_n^k u][ \\partial_n^k v] ds\n",
    "\\end{align*}\n",
    "\n",
    "k从1开始，最低阶的是一阶法向导数的跳量。\n",
    "\n",
    "* 压力的penalty项\n",
    "\\begin{align*}\n",
    "J^n(p,q) = \\sum_{F\\in {\\mathcal{F}} _{ \\Gamma}^n} \\sum_{k=0} h^{2k+1} \\int_F [\\partial_n^k p][\\partial_n^k q] ds\n",
    "\\end{align*}\n",
    "\n",
    "k从0开始，最低阶的是法向连续。"
   ]
  },
  {
   "cell_type": "markdown",
   "metadata": {},
   "source": [
    "### 强制性\n",
    "\\begin{align*}\n",
    "a^n(u,v) = (\\nabla u,\\nabla v)_{ \\Omega^n} - \\int_{ \\Gamma^n} \\partial_n u \\cdot v\n",
    "- \\int_{ \\Gamma^n} \\partial_n v \\cdot u + \\frac{ \\gamma}{h} \\int_{ \\Gamma^n} uv\n",
    "+ (w\\cdot \\nabla u,v)_{ \\Omega^n} + \\gamma_s s^n(u,v).\n",
    "\\end{align*}\n",
    "\n",
    "\\begin{align*}\n",
    "a^n(v,v)\\ge c (\\| v\\|_n^2 + \\gamma_s |v|_{s^n}^2)\n",
    "\\end{align*}"
   ]
  },
  {
   "cell_type": "markdown",
   "metadata": {},
   "source": []
  }
 ],
 "metadata": {
  "kernelspec": {
   "display_name": "Python 3 (ipykernel)",
   "language": "python",
   "name": "python3"
  },
  "language_info": {
   "codemirror_mode": {
    "name": "ipython",
    "version": 3
   },
   "file_extension": ".py",
   "mimetype": "text/x-python",
   "name": "python",
   "nbconvert_exporter": "python",
   "pygments_lexer": "ipython3",
   "version": "3.9.13"
  },
  "varInspector": {
   "cols": {
    "lenName": 16,
    "lenType": 16,
    "lenVar": 40
   },
   "kernels_config": {
    "python": {
     "delete_cmd_postfix": "",
     "delete_cmd_prefix": "del ",
     "library": "var_list.py",
     "varRefreshCmd": "print(var_dic_list())"
    },
    "r": {
     "delete_cmd_postfix": ") ",
     "delete_cmd_prefix": "rm(",
     "library": "var_list.r",
     "varRefreshCmd": "cat(var_dic_list()) "
    }
   },
   "types_to_exclude": [
    "module",
    "function",
    "builtin_function_or_method",
    "instance",
    "_Feature"
   ],
   "window_display": false
  }
 },
 "nbformat": 4,
 "nbformat_minor": 2
}
