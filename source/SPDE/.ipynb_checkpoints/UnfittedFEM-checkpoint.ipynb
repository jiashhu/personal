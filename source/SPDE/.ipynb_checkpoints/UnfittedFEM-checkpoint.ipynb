{
 "cells": [
  {
   "cell_type": "markdown",
   "metadata": {},
   "source": [
    "# UnfittedFEM"
   ]
  },
  {
   "cell_type": "markdown",
   "metadata": {},
   "source": [
    "* 所有的激活单元\n",
    "\\begin{align*}\n",
    "\\mathcal{T}_{h,e}^n = \\{T\\in \\mathcal{T}_h: \\textrm{dist}(x, \\Omega^n)\\le \\delta \\exists x\\in \\bar T\\}\n",
    "\\end{align*}\n",
    "* 所有激活单元的所有内部边 ${\\mathcal{F}} _{h,e}^n$\n",
    "* 所有的内部单元\n",
    "\\begin{align*}\n",
    "\\mathcal{T}_{h,i}^n  = \\{T\\in \\mathcal{T}_{h,e}^n: \\textrm{int}(T)\\subset \\Omega^n\\}\n",
    "\\end{align*}\n",
    "* 内部单元的所有内部边 ${\\mathcal{F}} _{h,i}^n$\n",
    "* 边界的带状区域的单元 ${\\mathcal{T}}_{\\Gamma}^n$，以及这个带状区域的所有内部边和内边界$\\mathcal{F}_{ \\Gamma}^n$\n"
   ]
  },
  {
   "cell_type": "markdown",
   "metadata": {},
   "source": [
    "### Stokes方程的特别设定"
   ]
  },
  {
   "cell_type": "markdown",
   "metadata": {},
   "source": [
    "* 速度空间 $V^n_h$; 压力空间 $Q^n_h$；压力满足\n",
    "\\begin{align*}\n",
    "Q_h^n = \\{ \\exists q\\in Q_h s.t. \\int_{ \\Omega_h^n} q dx = 0\\}.\n",
    "\\end{align*}\n",
    "意思是，每个$Q_h^n$中的元素，存在一个$Q_h$中的有限元函数延拓，并且这个元素本身在内部单元上总积分为0."
   ]
  },
  {
   "cell_type": "markdown",
   "metadata": {},
   "source": [
    "* Nitsche-type norms \n",
    "\\begin{align*}\n",
    "\\| v\\|_n^2 := \\| \\nabla v\\|_{ \\Omega^n}^2 + h^{-1} \\| v\\|_{ \\Gamma^n}^2 + h \\| \\nabla v\\|_{ \\Gamma^n}^2\n",
    "\\end{align*}\n",
    "根据迹不等式，Nitsche norm中的第三项是可以被第一项控制住的，这里写上它只是为了方便。\n",
    "* extended norms\n",
    "\\begin{align*}\n",
    "\\| v\\|_{n,e}^2 := \\| \\nabla v\\|_{ \\Omega^n_e}^2 + \\| v\\|_n^2\n",
    "\\end{align*}\n",
    "增加了延拓区域中的H1半范数\n",
    "* 一些简单的控制关系；根据迹定理，有限元函数v满足\n",
    "\\begin{align*}\n",
    "h \\| \\nabla v\\|_{ \\Gamma^n}^2\\lesssim \\| \\nabla v\\|_{ \\Omega^n}^2\n",
    "\\end{align*}"
   ]
  },
  {
   "cell_type": "markdown",
   "metadata": {},
   "source": [
    "### 迹不等式（Wu） 单元边界如何被单元内部控制住\n",
    "* 迹定理：对有界Lipschitz区域 $\\Omega$, $1\\le p\\le \\infty$，存在有界线性的迹算子 $\\gamma_0: W^{1,p}( \\Omega)\\to L^p(\\partial \\Omega)$ 以及常数 $C>0$ 使得\n",
    "\\begin{align*}\n",
    "\\| \\gamma_0 u\\|_{L^p(\\partial \\Omega)}\\le C \\| u\\|_{L^p( \\Omega)}^{1-1/p} \\| u\\|_{W^{1,p}( \\Omega)}^{1/p},\\quad \\forall u\\in W^{1,p}( \\Omega).\n",
    "\\end{align*}\n",
    "\n",
    "通过在参考单元上使用迹定理，再考虑进尺度变化的Jacobian以及L2以及H1半范的变换规律，可以证明得到下面的局部迹不等式。\n",
    "\n",
    "* 局部迹不等式(定理4.16) For $v\\in H^1(K)$, we have\n",
    "\\begin{align*}\n",
    "\\| v\\|_{L^2(\\partial K)} \n",
    "&\\lesssim h_K^{-\\frac12} \\| v\\|_{L^2(K)} +  \\| \\nabla v\\|_{L^2(K)}^{\\frac12} \\|v\\|_{L^2(K)}^{\\frac12}\\\\\n",
    "&\\lesssim h_K^{-\\frac12} \\| v\\|_{L^2(K)} + h^{\\frac12}_K \\| \\nabla v\\|_{L^2(K)}.\n",
    "\\end{align*}\n",
    "第二步用了young不等式。如果直接用逆不等式，得到一个更大的界\n",
    "\\begin{align*}\n",
    "\\| v\\|_{L^2(\\partial K)} \n",
    "&\\lesssim h_K^{-\\frac12} \\| v\\|_{L^2(K)}.\n",
    "\\end{align*}"
   ]
  },
  {
   "cell_type": "markdown",
   "metadata": {},
   "source": [
    "* 压力的范数\n",
    "weighted $H^1$-seminorm\n",
    "\\begin{align*}\n",
    "\\| q\\|_{n,i}^2 := h^2 \\sum_{T\\in \\mathcal{T}^n_i} \\| \\nabla q\\|_T^2 + h \\sum_{ F\\in {\\mathcal{F}} ^n_i} \\| [q]\\|_F^2\n",
    "\\end{align*}\n",
    "逐个单元上的weighted $H^1$-seminorm以及单元之间edge上的跳量\n",
    "\n",
    "#### 这个weighted $H^1$-seminorm比 $L^2$范数更小"
   ]
  },
  {
   "cell_type": "markdown",
   "metadata": {},
   "source": [
    "$\\| q\\|_{n,i}\\sim \\| q\\|_{L^2}$"
   ]
  },
  {
   "cell_type": "markdown",
   "metadata": {},
   "source": [
    "#### Inf-sup条件\n",
    "\n",
    "\\begin{align*}\n",
    "\\| v\\|_{n,e}\\lesssim \\| q\\|_{n,i}\n",
    "\\end{align*}\n",
    "\\begin{align*}\n",
    "\\| q\\|_{n,i}^2 \\le b^n(v,q) = \\int_{ \\Omega^n} \\textrm{div}v q - \\int_{ \\Gamma^n} v\\cdot n q\n",
    "\\end{align*}\n",
    "正常来说，inf-sup条件是说对任意的q，都存在一个v满足v的$H^1$范数小于等于q的L2范数。标准的inf-sup条件通过如下的定理来证明：存在$v$边界为0，并且 $\\textrm{div}(v) = q$。\n",
    "这样就找到了$v$使得它的$H^1$范数等于q的L2范数。"
   ]
  },
  {
   "cell_type": "markdown",
   "metadata": {},
   "source": [
    "Theorem 6.3. Let $\\Omega \\subset \\mathbb{R}^n$ be a bounded connected domain with Lipschitz continuous boundary. Then the mapping\n",
    "\n",
    "$$\n",
    "\\begin{aligned}\n",
    "\\operatorname{div}: V^{\\perp} & \\longrightarrow L_{2,0}(\\Omega) \\\\\n",
    "v & \\longmapsto \\operatorname{div} v\n",
    "\\end{aligned}\n",
    "$$\n",
    "is an isomorphism. Moreover, for any $q \\in L_2(\\Omega)$ with $\\int_{\\Omega} q d x=0$, there exists a function $v \\in V^{\\perp} \\subset H_0^1(\\Omega)^n$ with\n",
    "$$\n",
    "\\operatorname{div} v=q \\quad \\text { and } \\quad\\|v\\|_{1, \\Omega} \\leq c\\|q\\|_{0, \\Omega}\n",
    "$$\n",
    "where $c=c(\\Omega)$ is a constant."
   ]
  },
  {
   "cell_type": "markdown",
   "metadata": {},
   "source": [
    "#### 现在unfitted情况下 $v$ 的范数增长到了extended的范数，但是右端的压力范数降低到了一个内部单元的weighted范数\n",
    "* 问题：一般的unfitted的inf-sup条件是怎么证明的？\n",
    "* 进一步：\n",
    "\\begin{align*}\n",
    "\\| v\\|_{ \\Omega^n}\\lesssim h \\| q\\|_{n,i}\n",
    "\\end{align*}\n",
    "这是一个非常不寻常的结论"
   ]
  },
  {
   "cell_type": "markdown",
   "metadata": {},
   "source": [
    "根据inf-sup条件，双线性型b的部分可以控制压力的interior部分，额外部分用penalty控制\n",
    "\\begin{align*}\n",
    "\\theta \\| q\\|_{ \\Omega^n}\\le \\sup_{v\\in V^n} \\frac{b^n(v,q)}{ \\| v\\|_{n,e}} + |q|_{J^n}\n",
    "\\end{align*}"
   ]
  },
  {
   "cell_type": "markdown",
   "metadata": {},
   "source": [
    "Strong form in $ \\Omega^n$\n",
    "\\begin{align*}\n",
    "\\partial_t u - \\Delta u + w\\cdot \\nabla u + \\nabla p &= 0\\\\\n",
    "\\nabla\\cdot u& = 0.\n",
    "\\end{align*}\n",
    "Variational form，利用精确解满足的u在边界上是0来简化（消去）第二个方程中的u.n的项（来源于分部积分）\n",
    "\\begin{align*}\n",
    "(\\partial_t u,v)_{ \\Omega^n} + (\\nabla u,\\nabla v)_{ \\Omega^n} - \\int_{ \\Gamma^n} \\partial_n u \\cdot v\n",
    "+ (w\\cdot \\nabla u,v)_{ \\Omega^n} + (\\nabla p,v)_{ \\Omega^n} &= 0\\\\\n",
    "-(u,\\nabla q)_{ \\Omega^n} & = 0.\n",
    "\\end{align*}"
   ]
  },
  {
   "cell_type": "markdown",
   "metadata": {},
   "source": [
    "### 稳定化项（部分原因是施加Dirichlet边界条件；部分原因是稳定性）\n",
    "\n",
    "* 对称的边界项\n",
    "\\begin{align*}\n",
    "-\\int_{ \\Gamma^n} \\partial_n v u\n",
    "\\end{align*}\n",
    "* 零边界条件的penalty项\n",
    "\\begin{align*}\n",
    "h^{-1} \\int_{ \\Gamma^n} u v\n",
    "\\end{align*}\n",
    "* 带状区域的所有内部边和内边界$ {\\mathcal{F}} _{ \\Gamma}^n$中edge上的penalty项\n",
    "\\begin{align*}\n",
    "s^n(u,v) = \\sum_{F\\in {\\mathcal{F}} _{ \\Gamma}^n} \\sum_{k=1} h^{2k-  1}\\int_F [ \\partial_n^k u][ \\partial_n^k v] ds\n",
    "\\end{align*}\n",
    "\n",
    "k从1开始，最低阶的是一阶法向导数的跳量。\n",
    "\n",
    "* 压力的penalty项\n",
    "\\begin{align*}\n",
    "J^n(p,q) = \\sum_{F\\in {\\mathcal{F}} _{ \\Gamma}^n} \\sum_{k=0} h^{2k+1} \\int_F [\\partial_n^k p][\\partial_n^k q] ds\n",
    "\\end{align*}\n",
    "\n",
    "k从0开始，最低阶的是法向连续。"
   ]
  },
  {
   "cell_type": "markdown",
   "metadata": {},
   "source": [
    "### 双线性型以及各种性质：强制性和inf-sup条件\n",
    "\\begin{align*}\n",
    "A^n(u,v) = (\\nabla u,\\nabla v)_{ \\Omega^n} - \\int_{ \\Gamma^n} \\partial_n u \\cdot v\n",
    "- \\int_{ \\Gamma^n} \\partial_n v \\cdot u + \\frac{ \\gamma}{h} \\int_{ \\Gamma^n} uv\n",
    "+ (w\\cdot \\nabla u,v)_{ \\Omega^n} + \\gamma_s s^n(u,v).\n",
    "\\end{align*}\n",
    "\n",
    "\\begin{align*}\n",
    "a^n(u,v) = (\\nabla u,\\nabla v)_{ \\Omega^n} - \\int_{ \\Gamma^n} \\partial_n u \\cdot v\n",
    "- \\int_{ \\Gamma^n} \\partial_n v \\cdot u + \\frac{ \\gamma}{h} \\int_{ \\Gamma^n} uv\n",
    "+ (w\\cdot \\nabla u,v)_{ \\Omega^n}.\n",
    "\\end{align*}\n",
    "\n",
    "\\begin{align*}\n",
    "b^n(v,q) &= \\int_{ \\Omega^n} \\textrm{div}v q - \\int_{ \\Gamma^n} v\\cdot n q\n",
    "= -\\int_{ \\Omega^n} v \\nabla q \n",
    "\\end{align*}\n",
    "\n",
    "* 强制性\n",
    "\\begin{align*}\n",
    "a^n(v,v)\\ge c (\\| v\\|_n^2 + \\gamma_s |v|_{s^n}^2)\n",
    "\\end{align*}"
   ]
  },
  {
   "cell_type": "markdown",
   "metadata": {},
   "source": [
    "强制性的一些解释：\n",
    "* 控制界面项\n",
    "\\begin{align*}\n",
    "\\int_{ \\Gamma^n} \\partial_n u \\cdot u \\lesssim \n",
    "\\epsilon h\\| \\partial_n u\\|_{L^2( \\Gamma^n)}^2 + \\epsilon^{-1} h^{-1}\\| u\\|_{L^2( \\Gamma^n)}^2\n",
    "\\end{align*}\n",
    "进一步对于$\\Gamma^n$上的有限元函数的积分，再放大到一个扩张了的domain中用\n",
    "\\begin{align*}\n",
    "\\int_{ \\Gamma^n} \\partial_n u \\cdot u \n",
    "&\\lesssim \n",
    "\\epsilon\\| \\nabla u\\|^2_{L^2( \\Omega^n_e)} \n",
    "+ \\gamma \\epsilon^{-1} h^{-1} \\| u\\|_{L^2(\\Gamma^n)}^2\\\\\n",
    "&\\lesssim \n",
    "\\epsilon (\\| \\nabla u\\|^2_{L^2( \\Omega^n_e)} + )\n",
    "+ \\gamma \\epsilon^{-1} h^{-1} \\| u\\|_{L^2(\\Gamma^n)}^2\n",
    "\\end{align*}\n",
    "* $s^n(u,v)$是用来控制时间导数离散产生的区域变动"
   ]
  },
  {
   "cell_type": "markdown",
   "metadata": {},
   "source": []
  },
  {
   "cell_type": "markdown",
   "metadata": {},
   "source": [
    "## 数值格式\n",
    "\\begin{align*}\n",
    "(\\frac{u^n - u^{n-1}}{\\tau},v)_{ \\Omega^n} \n",
    "+ A^n(u^n,v)\n",
    "+ b^n(v, p^n) &= 0\\\\\n",
    "- b^n(u^n, q) & = 0.\n",
    "\\end{align*}\n"
   ]
  },
  {
   "cell_type": "markdown",
   "metadata": {},
   "source": [
    "## 精确解和精确解的相容性\n",
    "精确解代入数值格式，n-1时刻的精确解需要延拓（时间一致的一个延拓）；a中有penalty项，部分对于精确解来说是为0，部分可能是额外增加的，比如edge jump的penalty项。如果解充分光滑的话，那这部分也是免费的。\n",
    "\\begin{align*}\n",
    "(\\frac{u^n - \\mathcal{E}u^{n-1}}{\\tau},v)_{ \\Omega^n} + A^n(u^n, v)\n",
    "+ b^n(v,p^n) &= \n",
    "(\\frac{u^n - \\mathcal{E}u^{n-1}}{\\tau} - \\partial_t u(t_n),v)_{ \\Omega^n}.\\\\\n",
    "b^n(u^n, q) & = 0\n",
    "\\end{align*}"
   ]
  },
  {
   "cell_type": "markdown",
   "metadata": {},
   "source": [
    "## Stokes投影1\n",
    "* Stokes投影\n",
    "\\begin{align*}\n",
    "A^n(R^nu^n, v)+ b^n(v,R^n p^n) &= A^n(u^n, v)+ b^n(v, p^n).\\\\\n",
    "- b^n(R^n u^n,q) & = - b^n(u^n,q)\n",
    "\\end{align*}\n",
    "\n",
    "精确解的Stokes投影代入数值格式\n",
    "\\begin{align*}\n",
    "(\\frac{R^nu^n - R^{n-1}\\mathcal{E}u^{n-1}}{\\tau},v)_{ \\Omega^n} + A^n(R^nu^n, v)\n",
    "+ b^n(v,R^n p^n) &= \n",
    "(\\frac{R^nu^n - R^{n-1}\\mathcal{E}u^{n-1}}{\\tau} - \\partial_t u(t_n),v)_{ \\Omega^n} \\\\\n",
    "- b^n(R^n u^n,q) & = 0\n",
    "\\end{align*}"
   ]
  },
  {
   "cell_type": "markdown",
   "metadata": {},
   "source": [
    "Stokes 投影1潜在的问题是：n时刻的Stokes投影依赖于n时刻的active的triangulation。因此两个Stokes投影之间不一定光滑过度"
   ]
  },
  {
   "cell_type": "markdown",
   "metadata": {},
   "source": [
    "## Stokes投影2\n",
    "* Stokes投影\n",
    "\\begin{align*}\n",
    "a^n(R^nu^n, v)+ b^n(v,R^n p^n) &= a^n(u^n, v)+ b^n(v, p^n).\\\\\n",
    "- b^n(R^n u^n,q) & = - b^n(u^n,q)\n",
    "\\end{align*}\n",
    "\n",
    "精确解的Stokes投影代入数值格式\n",
    "\\begin{align*}\n",
    "(\\frac{R^nu^n - R^{n-1}\\mathcal{E}u^{n-1}}{\\tau},v)_{ \\Omega^n} \n",
    "+ A^n(R^nu^n, v)\n",
    "+ b^n(v,R^n p^n) &= \n",
    "(\\frac{R^nu^n - R^{n-1}\\mathcal{E}u^{n-1}}{\\tau} - \\partial_t u(t_n),v)_{ \\Omega^n} \\\\\n",
    "& + \\gamma_s s^n(R^n u^n, v)\\\\\n",
    "- b^n(R^n u^n,q) & = 0\n",
    "\\end{align*}"
   ]
  },
  {
   "cell_type": "markdown",
   "metadata": {},
   "source": [
    "\\begin{align*}\n",
    "s^n(R^n u^n, v) = s^n(R^n u^n - u, v) \\lesssim \\| R^n u^n - u\\|_{s^n} \\| v\\|_{s^n}\n",
    "\\end{align*}"
   ]
  },
  {
   "cell_type": "markdown",
   "metadata": {},
   "source": []
  },
  {
   "cell_type": "markdown",
   "metadata": {},
   "source": [
    "## 插值\n",
    "精确解的插值代入数值格式\n",
    "\\begin{align*}\n",
    "(\\frac{I^nu^n - I^n\\mathcal{E}u^{n-1}}{\\tau},v)_{ \\Omega^n} + A^n(I^nu^n, v)\n",
    "+ b^n(v,I^n p^n) &= \n",
    "(\\frac{I^nu^n - I^n\\mathcal{E}u^{n-1}}{\\tau} - \\partial_t u(t_n),v)_{ \\Omega^n} \\\\\n",
    "&+ A^n(I^nu^n-u^n, v)\n",
    "+ b^n(v,I^n p^n - p^n).\\\\\n",
    "- b^n(I^n u^n,q) & = b^n(u^n - I^n u^n,q)\n",
    "\\end{align*}"
   ]
  },
  {
   "cell_type": "markdown",
   "metadata": {},
   "source": [
    "$A^n(I^nu^n-u^n, v)$值得写出具体表达式，包含了多种来源的相容性误差\n",
    "\\begin{align*}\n",
    "A^n(I^nu^n-u^n, v)&= (\\nabla (I^nu^n-u^n), \\nabla v)_{ \\Omega^n}\n",
    "- \\langle \\partial_n(I^nu^n - u^n) v \\rangle_{ \\Gamma^n} \n",
    "+ (w\\cdot \\nabla (I^nu^n-u^n), v)_{ \\Omega^n}\\\\\n",
    "&- \\langle \\partial_n v I^nu^n \\rangle_{ \\Gamma^n}\n",
    "+ \\frac \\gamma h \\langle I^nu^n v \\rangle_{ \\Gamma^n}+ \\gamma_s s^n(I^nu^n, v).\n",
    "\\end{align*}"
   ]
  },
  {
   "cell_type": "markdown",
   "metadata": {},
   "source": [
    "* 第一行：来源与Laplace项以及分部积分的相容性项+w的对流项\n",
    "* 第二行：来源于penalty项（精确解的这些部分恰好是0）"
   ]
  },
  {
   "cell_type": "markdown",
   "metadata": {},
   "source": [
    "不妨记这些相容性误差为\n",
    "\\begin{align*}\n",
    "R_1(v) &= (\\frac{I^nu^n - I^n\\mathcal{E}u^{n-1}}{\\tau} - \\partial_t u(t_n),v)_{ \\Omega^n} \\\\\n",
    "R_2(v) &= a^n(I^nu^n-u^n, v) \\\\\n",
    "R_3(q) &= b^n(u^n - I^n u^n,q)\n",
    "\\end{align*}"
   ]
  },
  {
   "cell_type": "markdown",
   "metadata": {},
   "source": [
    "记误差 $e_u^n = u^n - I^n u^n$和 $e_p^n$，误差方程为\n",
    "\\begin{align*}\n",
    "(\\frac{e_u^n - (u^{n-1}- I^n\\mathcal{E}u^{n-1})}{\\tau},v)_{ \\Omega^n} + A^n(e_u^n, v)\n",
    "+ b^n(v,e_p^n) - b^n(e_u^n, q) = R_1 +R_2 + R_3.\n",
    "\\end{align*}"
   ]
  },
  {
   "cell_type": "markdown",
   "metadata": {},
   "source": [
    "选取测试函数 $q = e_p^n$ 以及 $v = e_u^n$，得到\n",
    "\\begin{align*}\n",
    "(\\frac{e_u^n - (u^{n-1}- I^n\\mathcal{E}u^{n-1})}{\\tau},e_u^n)_{ \\Omega^n} + A^n(e_u^n, e_u^n) = R_1(e_u^n) +R_2(e_u^n) + R_3(e_p^n).\n",
    "\\end{align*}\n",
    "插值只需要插值点的值就可以\n",
    "\\begin{align*}\n",
    "I^n\\mathcal{E}u^{n-1} =  I^{n-1}\\mathcal{E}u^{n-1},\\quad in\\ \\ \\Omega^n\n",
    "\\end{align*}\n",
    "这样就有\n",
    "\\begin{align*}\n",
    "(\\frac{e_u^n - e_u^{n-1}}{\\tau},e_u^n)_{ \\Omega^n} + A^n(e_u^n, e_u^n) = R_1(e_u^n) +R_2(e_u^n) + R_3(e_p^n).\n",
    "\\end{align*}"
   ]
  },
  {
   "cell_type": "markdown",
   "metadata": {},
   "source": [
    "### 相邻时间domain函数的稳定性\n",
    "$\\Omega_{e}^{n-1}$作为$\\Omega^{n-1}$的延拓网格区域。\n",
    "\n",
    "Lemma 4.1 For $h$ sufficiently small, there holds for all $v \\in V_h^{n-1}$,\n",
    "$$\n",
    "\\|v\\|_{\\Omega^n}^2 \\leq \\|v\\|_{\\Omega_{e}^{n-1}}^2 \\leq (1 + c_1 \\Delta t)\\|v\\|_{\\Omega^{n-1}}^2 + \\frac{\\Delta t}{4}\\|v\\|_{n-1}^2 + \\Delta t L |v|_{s^{n-1}}^2\n",
    "$$\n",
    "for a constant $c_1 > 0$ independent of $h, \\Delta t$ and how the boundary cuts through the triangulation.\n"
   ]
  },
  {
   "cell_type": "markdown",
   "metadata": {},
   "source": [
    "#### Strip上H1函数的控制：额外的strip宽度的小因子\n",
    "* （Lemma 5.6 and Lemma 3.5 in LO2019）\n",
    "\n",
    "For $u \\in H^1(\\mathcal{O}_{\\delta}(\\Omega_h^n))$ and any $\\varepsilon > 0$, there holds,\n",
    "$$\n",
    "\\|\\mathcal{E} u\\|_{\\mathcal{S}_{\\delta}(\\Omega_h^n)}^2 \\lesssim \n",
    "\\delta(1 + \\varepsilon^{-1})\\|u\\|_{\\mathcal{O}_{\\delta}(\\Omega_h^n)}^2 \n",
    "+ \\delta \\varepsilon \\|\\nabla u\\|_{\\mathcal{O}_{\\delta}(\\Omega_h^n)}^2\n",
    "$$\n"
   ]
  },
  {
   "cell_type": "markdown",
   "metadata": {},
   "source": [
    "* 证明核心\n",
    "\\begin{align*}\n",
    "\\| \\mathcal{E} u\\|_{ \\mathcal{S}_ \\delta}^2 = \\int_0^ \\delta \\int_{ \\Gamma_r} ( {\\mathcal{E}}u )^2 ds dr.\n",
    "\\end{align*}\n",
    "而 $\\|\\mathcal{E} u\\|_{L^2(\\Gamma_r)}$可以被domain中的L2以及H1半范数控制（类似于trace不等式）\n",
    "\\begin{align*}\n",
    "\\| \\mathcal{E} u\\|_{L^2( \\Gamma_r)}^2 \n",
    "\\lesssim (1+ \\epsilon^{-1}) \\|  {\\mathcal{E}} u \\|_{ \\Omega_r}^2 + \\frac \\epsilon 4 \\| \\nabla \\mathcal{E}u\\|_{ \\Omega_r}^2\n",
    "\\end{align*}\n",
    "* 证明完了之后右端是延拓区域上的L2和H1半范数。进一步用domain中的范数以及penalty项控制。因此有界性就已经足够。"
   ]
  },
  {
   "cell_type": "markdown",
   "metadata": {},
   "source": [
    "* 相邻单元上两个多项式的L2范数的控制，常数C可能是无法写成 $1+o(1)$的\n",
    "![Massing2012Lem5-1](Massing2012Lem5-1.png)"
   ]
  },
  {
   "cell_type": "markdown",
   "metadata": {},
   "source": [
    "* 对两个p次多项式，控制单元界面上的$\\le p$次导数的跳量\n",
    "* 特殊情形是：p次导数都连续，即两个多项式是一个整体的多项式，则跨单元延拓是有界延拓"
   ]
  },
  {
   "cell_type": "markdown",
   "metadata": {},
   "source": [
    "核心思路是控制延拓的带状区域中的有限元函数的$L^2$范数。\n",
    "\n",
    "\\begin{align*}\n",
    "&\\| v\\|_{ \\Omega_e^n}^2\\sim \\| v\\|_{ \\Omega^n}^2 + h^2\\| v\\|_{s^n}^2\\\\\n",
    "&\\|\\nabla v\\|_{ \\Omega_e^n}^2\\sim \\| \\nabla v\\|_{ \\Omega^n}^2 + \\| v\\|_{s^n}^2\\\\\n",
    "\\end{align*}\n",
    "\n",
    "进一步得到\n",
    "\\begin{align*}\n",
    "\\| v\\|_{n,e}\\sim\\|\\nabla v\\|_{ \\Omega_e^n} + \\| v\\|_n \n",
    "\\sim\\| v\\|_n + \\|v\\|_{s^n}\n",
    "\\end{align*}"
   ]
  },
  {
   "cell_type": "markdown",
   "metadata": {},
   "source": [
    "离散Poincare不等式\n"
   ]
  },
  {
   "cell_type": "code",
   "execution_count": null,
   "metadata": {},
   "outputs": [],
   "source": []
  },
  {
   "cell_type": "markdown",
   "metadata": {},
   "source": [
    "精确解的插值代入数值格式\n",
    "\\begin{align*}\n",
    "(\\frac{I^nu^n - I^n\\mathcal{E}u^{n-1}}{\\tau},v)_{ \\Omega^n} + a^n(I^nu^n, v)\n",
    "+ b^n(v,I^n p^n) &= \n",
    "(\\frac{I^nu^n - I^n\\mathcal{E}u^{n-1}}{\\tau} - \\partial_t u(t_n),v)_{ \\Omega^n} \n",
    "+ a^n(I^nu^n-u^n, v).\\\\\n",
    "- b^n(I^n u^n,q) & = b^n(u^n - I^n u^n,q)\n",
    "\\end{align*}"
   ]
  },
  {
   "cell_type": "markdown",
   "metadata": {},
   "source": [
    "* 选取误差的时间导数作为测试函数，右侧出来\n",
    "\\begin{align*}\n",
    "a^n(I^nu^n-u^n, \\partial_t e^n)\n",
    "\\end{align*}"
   ]
  },
  {
   "cell_type": "markdown",
   "metadata": {},
   "source": [
    "选取测试函数 $q = e_p^n$ 以及 $v = e_u^n$，得到\n",
    "\\begin{align*}\n",
    "(\\frac{e_u^n - (u^{n-1}- I^n\\mathcal{E}u^{n-1})}{\\tau},e_u^n)_{ \\Omega^n} + a^n(e_u^n, e_u^n) = R_1(e_u^n) +R_2(e_u^n) + R_3(e_p^n).\n",
    "\\end{align*}\n",
    "插值只需要插值点的值就可以\n",
    "\\begin{align*}\n",
    "I^n\\mathcal{E}u^{n-1} =  I^{n-1}\\mathcal{E}u^{n-1},\\quad in\\ \\ \\Omega^n\n",
    "\\end{align*}\n",
    "这样就有\n",
    "\\begin{align*}\n",
    "(\\frac{e_u^n - e_u^{n-1}}{\\tau},e_u^n)_{ \\Omega^n} + a^n(e_u^n, e_u^n) = R_1(e_u^n) +R_2(e_u^n) + R_3(e_p^n).\n",
    "\\end{align*}"
   ]
  },
  {
   "cell_type": "markdown",
   "metadata": {},
   "source": [
    "* 抛物问题的对偶论证\n",
    "\n",
    "\\begin{align}\\label{dual:ess}\n",
    "&( \\partial_t e_h, \\phi)_{ \\Omega{(t)}}\n",
    "+ ( w\\cdot \\nabla e_h, \\phi)_{ \\Omega(t)}\n",
    "+ a_h^t(e_h, \\phi)\\\\\\notag\n",
    "&= \n",
    "\\dfrac{d}{dt} (e_h, \\phi)_{ \\Omega(t)}\n",
    "{- (e_h, (\\partial_t + w\\cdot \\nabla) \\phi + \\Delta \\phi\n",
    "+\\phi \\nabla\\cdot w)_{ \\Omega(t)}}\n",
    "-\\int_{ \\Gamma(t)} \\phi \\partial_h e_h\n",
    "+ \\frac{ \\gamma}{h} \\int_{ \\Gamma(t)} \\phi e_h.\n",
    "\\end{align}"
   ]
  },
  {
   "cell_type": "markdown",
   "metadata": {},
   "source": [
    "在$L^2L^2$内积下，\n",
    "\\begin{align}\\label{dual:L2}\n",
    "\\int_0^T (e_h, Z)_{ \\Omega(t)}\n",
    "&= \\int_0^T \n",
    "( \\partial_t e_h, \\phi)_{ \\Omega{(t)}}\n",
    "+ ( w\\cdot \\nabla e_h, \\phi)_{ \\Omega(t)}\n",
    "+ a_h^t(e_h, \\phi)\n",
    "- \\dfrac{d}{dt} (e_h, \\phi)_{ \\Omega(t)}\\\\\\notag\n",
    "&= \\int_0^T \\left[\n",
    "( \\partial_t e_h, \\phi - \\phi_h)_{ \\Omega{(t)}}\n",
    "+ ( w\\cdot\\nabla e_h, \\phi - \\phi_h)_{ \\Omega(t)}\n",
    "+ a_h^t(e_h, \\phi - \\phi_h)\n",
    "\\right]\\\\\\notag\n",
    "&\\quad+ \\int_0^T \\left[\n",
    "( \\partial_t e_h, \\phi_h)_{ \\Omega{(t)}}\n",
    "+ ( w\\cdot\\nabla e_h, \\phi_h)_{ \\Omega(t)}\n",
    "+ a_h^t(e_h, \\phi_h)\n",
    "\\right]\n",
    "-(e_h, \\phi)_{ \\Omega(t)}|_{0}^T\\\\\n",
    "&=I_1 + I_2 + I_3 + I_4.\n",
    "\\end{align}\n",
    "通过将右端项控制成 $A \\|Z\\|_{L^{p'}L^2}$的形式来得到 $e_h$的 $L^pL^2$估计。"
   ]
  },
  {
   "cell_type": "code",
   "execution_count": null,
   "metadata": {},
   "outputs": [],
   "source": []
  }
 ],
 "metadata": {
  "kernelspec": {
   "display_name": "Python 3 (ipykernel)",
   "language": "python",
   "name": "python3"
  },
  "language_info": {
   "codemirror_mode": {
    "name": "ipython",
    "version": 3
   },
   "file_extension": ".py",
   "mimetype": "text/x-python",
   "name": "python",
   "nbconvert_exporter": "python",
   "pygments_lexer": "ipython3",
   "version": "3.9.13"
  },
  "varInspector": {
   "cols": {
    "lenName": 16,
    "lenType": 16,
    "lenVar": 40
   },
   "kernels_config": {
    "python": {
     "delete_cmd_postfix": "",
     "delete_cmd_prefix": "del ",
     "library": "var_list.py",
     "varRefreshCmd": "print(var_dic_list())"
    },
    "r": {
     "delete_cmd_postfix": ") ",
     "delete_cmd_prefix": "rm(",
     "library": "var_list.r",
     "varRefreshCmd": "cat(var_dic_list()) "
    }
   },
   "types_to_exclude": [
    "module",
    "function",
    "builtin_function_or_method",
    "instance",
    "_Feature"
   ],
   "window_display": false
  }
 },
 "nbformat": 4,
 "nbformat_minor": 2
}
