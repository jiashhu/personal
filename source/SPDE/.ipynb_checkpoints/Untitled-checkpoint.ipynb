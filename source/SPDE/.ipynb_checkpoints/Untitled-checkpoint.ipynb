{
 "cells": [
  {
   "cell_type": "markdown",
   "id": "49720182-38ef-43f6-b105-c86b61a74aa4",
   "metadata": {},
   "source": [
    "## Phi-FEM\n",
    "* Elliptic equation\n",
    "\\begin{align*}\n",
    "- \\Delta u = f\n",
    "\\end{align*}\n",
    "* 邻域网格 $\\Omega\\subset\\Omega_h$"
   ]
  },
  {
   "cell_type": "markdown",
   "id": "3a61c93d-5197-46c5-969f-d5d5a6204bfd",
   "metadata": {},
   "source": [
    "* 在邻域网格上测试并分部积分\n",
    "\\begin{align*}\n",
    "(\\nabla u, \\nabla v_h)_{ \\Omega_h} - ( \\partial_n u, v_h)_{\\partial \\Omega_h} = (f, v_h)_{ \\Omega_h}.\n",
    "\\end{align*}"
   ]
  },
  {
   "cell_type": "markdown",
   "id": "44624aa8-2692-417c-b67f-4a358c82d16f",
   "metadata": {},
   "source": [
    "### 边界项的稳定化（在有限元空间中）\n",
    "* 带状区域中的分部积分，如果 $u$ 是光滑函数：\n",
    "\\begin{align*}\n",
    "- ( \\partial_n u, v_h)_{\\partial \\Omega_h} = \n",
    "- ( \\partial_n u, v_h)_{\\partial \\Omega}\n",
    "- (\\nabla u, \\nabla v_h)_{ \\Omega_h \\backslash \\Omega} \n",
    "- ( \\Delta u, \\nabla v_h)_{ \\Omega_h \\backslash \\Omega}\n",
    "\\end{align*}\n",
    "* 对于有限元函数$u$还有edge jump项\n",
    "\\begin{align*}\n",
    "- ( \\partial_n u_h, v_h)_{\\partial \\Omega_h}\n",
    "& = - ( \\partial_n u_h, v_h)_{\\partial \\Omega}\n",
    "- (\\nabla u_h, \\nabla v_h)_{ \\Omega_h \\backslash \\Omega} \n",
    "- ( \\Delta u_h, v_h)_{ \\Omega_h \\backslash \\Omega}\n",
    "+ \\sum_{E\\in \\mathcal{T}_{ \\Gamma}}([ \\partial_n u_h], v_h)_{E}\\\\\n",
    "& = R_1+ R_2 + R_3 + R_4\n",
    "\\end{align*}\n",
    "* E只包括中间edge"
   ]
  },
  {
   "cell_type": "markdown",
   "id": "d82e94ee-fa23-467e-9c80-f14608630139",
   "metadata": {},
   "source": [
    "* $R_1=0$，对于$v_h$在边界为0可以处理\n",
    "* $R_2$要用 $\\Omega_h$ 上的H1半范数吸收：有两种选择，第一是用H1范数小于1的常数部分；第二是可以直接减掉）\n",
    "* phi-FEM的做法是\n",
    "\\begin{align*}\n",
    "\\| \\nabla u_h\\|_{B_h}\\lesssim (1- \\epsilon) |u_h|_{ \\Omega_h} + h \\| \\partial_n u_h\\|_{L^2(E)}^2 \n",
    "+ h^2 \\| \\Delta u_h\\|_{T}^2\n",
    "\\end{align*}\n",
    "* 如果直接减掉；a的强制性证明右端的范数 只包括了 $\\Omega$ 上的 $H^1$ 半范数；单独的这部分可能在控制延拓网格上的有限元函数上有条件数的问题。可以再利用CutFEM的高阶jump penalty来提高强制性，使得该范数没有条件数问题。\n",
    "* $R_3$要用 penalty 项\n",
    "* $R_4$要用 edge penalty项"
   ]
  },
  {
   "cell_type": "markdown",
   "id": "92f7af4a-4cda-42e5-a99e-1a0b81b98fa0",
   "metadata": {},
   "source": [
    "* $R_3$ penalty control:\n",
    "\n",
    "\\begin{align*}\n",
    "R_3 = -( \\Delta u_h, v_h)_{ \\Omega_h \\backslash \\Omega}\n",
    "\\lesssim \\epsilon^{-1}h^2\\|\\Delta u_h \\|_{L^2(\\Omega_h \\backslash \\Omega)}^2 + \\epsilon h^{-2} \\| v_h\\|_{\\Omega_h \\backslash \\Omega}^2\n",
    "\\end{align*}"
   ]
  },
  {
   "cell_type": "markdown",
   "id": "ae268840-ecfa-45fc-8a27-186ec6f0a980",
   "metadata": {},
   "source": [
    "### R3的处理"
   ]
  },
  {
   "cell_type": "markdown",
   "id": "d3f70209-c6b2-4b99-a6a8-d2c5bb259e8b",
   "metadata": {},
   "source": [
    "#### Laplace加罚项\n",
    "* 选择增加 $(\\Delta u_h, \\Delta v_h)_T$ 这样的加罚项\n",
    "* 根据 $R_3$ 的表达，这个加罚项只需要 $\\sigma h^2$ 的因子就可以控制住。\n",
    "* 该加罚项的相容性：必须额外利用方程以及右端项 $f$，即\n",
    "\\begin{align*}\n",
    "\\sigma h^2( \\Delta (u - I_h u), \\Delta v_h)_{T}\n",
    "\\lesssim \n",
    "\\sigma h^2 h^{k-1}\\| u\\|_{H^{k+1}}  h^{-1}\\|\\nabla v_h\\|_{T}\n",
    "=\n",
    "\\sigma h^{k}\\| u\\|_{H^{k+1}}  \\|\\nabla v_h\\|_{T}\n",
    "\\end{align*}"
   ]
  },
  {
   "cell_type": "markdown",
   "id": "6489b4b5-7bc0-4ee7-a4c9-403e83322e25",
   "metadata": {},
   "source": [
    "#### 计算相容性误差的注意事项\n",
    "* 注意测试函数是谁\n",
    "* 注意左端范数的变化\n",
    "* 在上面的例子中：测试函数放大到了 $\\|\\nabla v_h\\|_{T}$，在测试 $v_h = e_h$ 时，左端有 $v_h$ 的H1半范数。当然这个T在domain之外，也需要下文的方式来控制"
   ]
  },
  {
   "cell_type": "markdown",
   "id": "fc24652a-8af9-4f2a-b423-0eb162b82125",
   "metadata": {},
   "source": [
    "对于第二项，利用零边界以及Poincare不等式（会有domain的测度），带状区域$B_h = \\Omega_h \\backslash \\Omega$由很多touch 边界的残缺单元T'构成，这些单元的size是h。\n",
    "\\begin{align*}\n",
    "\\| v_h\\|_{ \\Omega_h\\backslash \\Omega}^2 = \n",
    "\\sum \\| v_h\\|_{T'}^2 \n",
    "\\lesssim h^2 \\sum \\| \\nabla v_h\\|_{T'}^2 \n",
    "= h^2 \\| \\nabla v_h\\|_{\\Omega_h\\backslash \\Omega}^2\n",
    "\\end{align*}\n",
    "相当于直接在带状区域$B_h$中使用Poincare不等式，其中常数和带状区域的测度正比是$h$. (可以参见[Poincare](https://ocw.mit.edu/courses/18-152-introduction-to-partial-differential-equations-fall-2005/eb581f1f6d82b83f4562d98e2a3d7744_lecture4.pdf))\n",
    "\n",
    "因此，根据下面的估计：第一项通过取大加罚参数控制；第二项涉及到延拓区域上的H1半范数\n",
    "\\begin{align*}\n",
    "R_3 = -( \\Delta u_h, v_h)_{ \\Omega_h \\backslash \\Omega}\n",
    "\\lesssim \\epsilon^{-1}h^2\\|\\Delta u_h \\|_{L^2(\\Omega_h \\backslash \\Omega)}^2 + \\epsilon \\| \\nabla v_h\\|_{\\Omega_h \\backslash \\Omega}^2\n",
    "\\end{align*}"
   ]
  },
  {
   "cell_type": "markdown",
   "id": "f69ba2e5-5da2-4473-b47d-05a308613e10",
   "metadata": {},
   "source": [
    "* 直接考虑，下面的加罚项，替代 $-(\\partial_t u_h, \\Delta v_h)_T$\n",
    "\\begin{align*}\n",
    "(\\nabla \\partial_t u_h, \\nabla v_h)_T\n",
    "\\end{align*}\n",
    "对应的相容性误差\n"
   ]
  },
  {
   "cell_type": "markdown",
   "id": "f20c33c9-200e-442e-bcc1-82a4fb403c33",
   "metadata": {},
   "source": [
    "直接选取penalty为 $(\\nabla \\partial_t u_h, \\nabla v_h)_T - ( \\partial_t u_h, \\partial_n v_h)_{\\partial B_h}$, this one is equivalent to\n",
    "\\begin{align*}\n",
    "(\\nabla \\partial_t u_h, \\nabla v_h)_T - ( \\partial_t u_h, \\partial_n v_h)_{\\partial B_h}\n",
    " = \n",
    " (- \\partial_t u_h, \\Delta v_h)_T + \\sum_E ( \\partial_t u_h, [ \\partial_n v_h])_E\n",
    "\\end{align*}\n",
    "对应的相容性误差为（先代入精确解的插值看看）\n",
    "\\begin{align*}\n",
    "R&=\n",
    "(\\nabla \\partial_t I_h u, \\nabla v_h)_T \n",
    "- (\\partial_t I_h u, \\partial_n v_h)_{\\partial B_h}\n",
    "+ (\\partial_t u, \\Delta v_h)_T\\\\\n",
    "& = (\\nabla \\partial_t(I_h u - u), \\nabla v_h)_T + \\sum_{E} (\\partial_t u, [ \\partial_n v_h])_E\n",
    "+ (\\partial_t (u-I_h u), \\partial_n v_h)_{\\partial B_h}.\n",
    "\\end{align*}"
   ]
  },
  {
   "cell_type": "markdown",
   "id": "f482fbd3-58fc-4b94-93ac-a7d17fbd61cb",
   "metadata": {},
   "source": [
    "* 首先这个相容性的第二项好像也不小；应该放到稳定项里面去，如果这样的话，相当于稳定项是\n",
    "\\begin{align*}\n",
    "(\\nabla \\partial_t u_h, \\nabla v_h)_T - ( \\partial_t u_h, \\partial_n v_h)_{\\partial B_h}\n",
    "-\\sum_E (\\partial_t u_h, [ \\partial_n v_h])_E\n",
    "= (- \\partial_t u_h, \\Delta v_h)_T\n",
    "\\end{align*}\n",
    "这样，相容性就是\n",
    "\\begin{align*}\n",
    "R& = (\\nabla \\partial_t(I_h u - u), \\nabla v_h)_T + \\sum_{E} (\\partial_t (u-I_h u), [ \\partial_n v_h])_E\n",
    "+ (\\partial_t (u-I_h u), \\partial_n v_h)_{\\partial B_h}.\n",
    "\\end{align*}"
   ]
  },
  {
   "cell_type": "markdown",
   "id": "c72352c1-f778-45e6-957f-a8ac7b5359e3",
   "metadata": {},
   "source": [
    "对应的稳定性估计是足够的\n",
    "\\begin{align*}\n",
    "-h^2\\sum_E (\\partial_t e_h, [ \\partial_n v_h])_E\n",
    "&\\lesssim h^2\\sum_E \\| \\partial_t e_h \\|_{L^2(E)} \\| [ \\partial_n v_h]\\|_{L^2(E)}\\\\\n",
    "&\\lesssim \\sum_E  h^{3}\\| \\partial_t e_h \\|_{L^2(E)}^2 + h \\| [ \\partial_n v_h]\\|_{L^2(E)}^2\\\\\n",
    "\\end{align*}"
   ]
  },
  {
   "cell_type": "markdown",
   "id": "7e4fc9d6-5fbc-4a04-9b82-93d8a9f4d797",
   "metadata": {},
   "source": [
    "* 如果$\\partial B_h$的项没有放到稳定项里面，那就会在误差项中出现。这样，相容性就是 $h^2R$\n",
    "\\begin{align*}\n",
    "R& = (\\nabla \\partial_t(I_h u - u), \\nabla v_h)_T + \\sum_{E} (\\partial_t (u-I_h u), [ \\partial_n v_h])_E\n",
    "+ (\\partial_t u, \\partial_n v_h)_{\\partial B_h}.\n",
    "\\end{align*}"
   ]
  },
  {
   "cell_type": "markdown",
   "id": "65f3b5d5-439c-4fbd-99dc-373f1692d0e5",
   "metadata": {},
   "source": []
  },
  {
   "cell_type": "markdown",
   "id": "8c5acf2b-fa6f-42ad-b80a-b81082df87d4",
   "metadata": {},
   "source": [
    "Euler-Lagrage Remapping cut-FEM\n",
    "\n",
    "用Ritz投影来处理压力L2的不稳定性"
   ]
  },
  {
   "cell_type": "markdown",
   "id": "30ea7652-5b1a-4920-b5d5-dd24db6e8467",
   "metadata": {},
   "source": [
    "这种全欧拉时间步进方案最初在 [33] 中针对对流-扩散问题提出并进行了分析，随后在 [34] 中应用于两相流问题，在 [35] 中用于处理带有浸没移动物体的流体问题。\n",
    "\n",
    "类似的非拟合方法采用时空单元处理流体问题，见 [36]。\n",
    "\n",
    "针对变形域中的 Stokes 和线性化 Navier-Stokes 方程的扩展研究分别在 [37–39] 中进行了分析，使用非拟合 Taylor-Hood 有限元方法（任意阶）证明了速度的能量范数和压力的缩放 \\(L^2(H^1)\\) 范数的最优收敛性。\n",
    "\n",
    "尽管这一方法有坚实的数学基础，但本文发现现有方法的变体在水动力力上的时间伪振荡问题仍未完全解决。\n",
    "\n",
    "这些伪振荡虽然随着网格加密快速减小，但即便在体积和质量守恒严格满足的情况下仍然存在——这与常见假设（即守恒原理的失效是主要原因）相悖。\n",
    "\n",
    "此外，与早期研究一致，我们观察到，当时间步长减小时，伪振荡的幅度会增加，尽管时间平均振幅保持有界。这一行为表明，该方法在不同范数下的数值稳定性界限可能有所不同。我们认为，控制导致浸没边界上的伪水动力力的压力伪振荡，需要一种在 \\(L^\\infty(H^1)\\)-范数下对压力无条件稳定的离散化方法。而传统有限元分析通常仅评估 \\(L^2(L^2)\\)-范数下的压力稳定性，这仅保证了压力的时间平均稳定性。在合理假设下，\\(L^\\infty(H^1)\\)-压力稳定性可以归结为 \\(L^\\infty(L^2)\\)-压力稳定性，两者均衡指瞬时压力的稳定性。我们的数值实验表明，目前所有可用的非拟合有限元方法变体在 \\(L^2(L^2)\\)-范数下均表现出无条件稳定性，但当时间步长趋近于零且空间网格固定时，压力在 \\(L^\\infty(L^2)\\)-范数下发散。\n",
    "\n",
    "我们重新审视了稳态域上的有限元方法分析，以识别实现 \\(L^\\infty(L^2)\\)-压力稳定性的关键推论，并解释这些推论为何在移动边界情况下失效。通过明确问题所在，我们提出了一种方法变体，能够确保瞬时压力的无条件稳定性，从而实际上抑制了压力伪振荡，并消除了对特定 CFL 数的依赖。方法的关键修改在于将 ghost-penalty 项重新定义为全局形式，而非此前建议的仅限于边界周围的窄带区域。\n",
    "\n",
    "除此之外，本文还研究了流体粘性、几何近似、质量守恒、离散化与稳定化参数以及有限元空间选择对窄带浸没边界有限元方法中压力时间伪振荡的发生及幅度的影响。结果表明，其中一些参数对压力的时间稳定性几乎没有影响，而另一些参数的变化则可以将“传统”变体中的伪振荡降低至低于物理显著性的水平。"
   ]
  },
  {
   "cell_type": "code",
   "execution_count": null,
   "id": "652ca525-7c3f-4a7a-9f12-bd99703f27c0",
   "metadata": {},
   "outputs": [],
   "source": []
  },
  {
   "cell_type": "markdown",
   "id": "e0877872-c6c7-4965-8fcd-a9693e98a408",
   "metadata": {},
   "source": [
    "在稳定性项中， $\\partial_t u_h$需要替换成 $\\partial_t e_h$。然后 \n",
    "$(\\partial_t u_h, \\partial_n v_h)_{\\partial B_h}$ 对应的项就是。通过迹不等式可以得到\n",
    "\\begin{align*}\n",
    "h^2 ( \\partial_t e_h, \\partial_n v_h)_E\n",
    "\\lesssim \\| \\partial_t e_n\\|_T \\| v_h\\|_T\n",
    "\\end{align*}"
   ]
  },
  {
   "cell_type": "code",
   "execution_count": null,
   "id": "fd22feec-8ecd-4c2f-94cd-2df3660b6b9c",
   "metadata": {},
   "outputs": [],
   "source": []
  },
  {
   "cell_type": "code",
   "execution_count": null,
   "id": "7607301f-c618-4801-a70b-dd17973ec0a1",
   "metadata": {},
   "outputs": [],
   "source": []
  },
  {
   "cell_type": "code",
   "execution_count": null,
   "id": "735381ea-6b71-4bbc-b78c-b4decaa34ccf",
   "metadata": {},
   "outputs": [],
   "source": []
  },
  {
   "cell_type": "code",
   "execution_count": null,
   "id": "dc3e8eb6-e4cc-4c15-a322-de0bdcc004a3",
   "metadata": {},
   "outputs": [],
   "source": []
  }
 ],
 "metadata": {
  "kernelspec": {
   "display_name": "Python 3 (ipykernel)",
   "language": "python",
   "name": "python3"
  },
  "language_info": {
   "codemirror_mode": {
    "name": "ipython",
    "version": 3
   },
   "file_extension": ".py",
   "mimetype": "text/x-python",
   "name": "python",
   "nbconvert_exporter": "python",
   "pygments_lexer": "ipython3",
   "version": "3.8.10"
  }
 },
 "nbformat": 4,
 "nbformat_minor": 5
}
