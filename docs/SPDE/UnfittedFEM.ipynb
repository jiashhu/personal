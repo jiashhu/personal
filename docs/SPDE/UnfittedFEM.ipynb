{
 "cells": [
  {
   "cell_type": "markdown",
   "metadata": {},
   "source": [
    "# UnfittedFEM"
   ]
  },
  {
   "cell_type": "markdown",
   "metadata": {},
   "source": [
    "* 所有的激活单元\n",
    "\\begin{align*}\n",
    "\\mathcal{T}_{h,e}^n = \\{T\\in \\mathcal{T}_h: \\textrm{dist}(x, \\Omega^n)\\le \\delta \\exists x\\in \\bar T\\}\n",
    "\\end{align*}\n",
    "* 所有激活单元的所有内部边 ${\\mathcal{F}} _{h,e}^n$\n",
    "* 所有的内部单元\n",
    "\\begin{align*}\n",
    "\\mathcal{T}_{h,i}^n  = \\{T\\in \\mathcal{T}_{h,e}^n: \\textrm{int}(T)\\subset \\Omega^n\\}\n",
    "\\end{align*}\n",
    "* 内部单元的所有内部边 ${\\mathcal{F}} _{h,i}^n$\n",
    "* 边界的带状区域的单元 $ \\mathcal{T}_{ \\Gamma}^n$，以及这个带状区域的所有内部边和内边界$ \\mathcal{F}_{ \\Gamma}^n$\n"
   ]
  },
  {
   "cell_type": "markdown",
   "metadata": {},
   "source": [
    "### Stokes方程的特别设定"
   ]
  },
  {
   "cell_type": "markdown",
   "metadata": {},
   "source": [
    "* 速度空间 $V^n_h$; 压力空间 $Q^n_h$；压力满足\n",
    "\\begin{align*}\n",
    "Q_h^n = \\{ \\exists q\\in Q_h s.t. \\int_{ \\Omega_h^n} q dx = 0\\}.\n",
    "\\end{align*}\n",
    "意思是，每个$Q_h^n$中的元素，存在一个$Q_h$中的有限元函数延拓，并且这个元素本身在内部单元上总积分为0."
   ]
  },
  {
   "cell_type": "markdown",
   "metadata": {},
   "source": [
    "* Nitsche-type norms \n",
    "\\begin{align*}\n",
    "\\| v\\|_n^2 := \\| \\nabla v\\|_{ \\Omega^n}^2 + h^{-1} \\| v\\|_{ \\Gamma^n}^2 + h \\| \\nabla v\\|_{ \\Gamma^n}^2\n",
    "\\end{align*}\n",
    "* extended norms\n",
    "\\begin{align*}\n",
    "\\| v\\|_{n,e}^2 := \\| \\nabla v\\|_{ \\Omega^n_e}^2 + \\| v\\|_n^2\n",
    "\\end{align*}"
   ]
  },
  {
   "cell_type": "markdown",
   "metadata": {},
   "source": [
    "* 压力的范数\n",
    "weighted $H^1$-seminorm\n",
    "\\begin{align*}\n",
    "\\| q\\|_{n,i}^2 := h^2 \\sum_{T\\in \\mathcal{T}^n_i} \\| \\nabla q\\|_T^2 + h \\sum_{ F\\in {\\mathcal{F}} ^n_i} \\| [q]\\|_F^2\n",
    "\\end{align*}\n",
    "逐个单元上的weighted $H^1$-seminorm以及单元之间edge上的跳量\n",
    "\n",
    "#### 这个weighted $H^1$-seminorm比 $L^2$范数更小"
   ]
  },
  {
   "cell_type": "markdown",
   "metadata": {},
   "source": [
    "$\\| q\\|_{n,i}\\sim \\| q\\|_{L^2}$"
   ]
  },
  {
   "cell_type": "markdown",
   "metadata": {},
   "source": [
    "#### Inf-sup条件\n",
    "\n",
    "\\begin{align*}\n",
    "\\| v\\|_{n,e}\\lesssim \\| q\\|_{n,i}\n",
    "\\end{align*}\n",
    "\\begin{align*}\n",
    "\\| q\\|_{n,i}^2 \\le b^n(v,q) = \\int_{ \\Omega^n} \\textrm{div}v q - \\int_{ \\Gamma^n} v\\cdot n q\n",
    "\\end{align*}\n",
    "正常来说，inf-sup条件是说对任意的q，都存在一个v满足v的$H^1$范数小于等于q的L2范数。标准的inf-sup条件通过如下的定理来证明：存在$v$边界为0，并且 $\\textrm{div}(v) = q$。\n",
    "这样就找到了$v$使得它的$H^1$范数等于q的L2范数。"
   ]
  },
  {
   "cell_type": "markdown",
   "metadata": {},
   "source": [
    "Theorem 6.3. Let $\\Omega \\subset \\mathbb{R}^n$ be a bounded connected domain with Lipschitz continuous boundary. Then the mapping\n",
    "\n",
    "$$\n",
    "\\begin{aligned}\n",
    "\\operatorname{div}: V^{\\perp} & \\longrightarrow L_{2,0}(\\Omega) \\\\\n",
    "v & \\longmapsto \\operatorname{div} v\n",
    "\\end{aligned}\n",
    "$$\n",
    "is an isomorphism. Moreover, for any $q \\in L_2(\\Omega)$ with $\\int_{\\Omega} q d x=0$, there exists a function $v \\in V^{\\perp} \\subset H_0^1(\\Omega)^n$ with\n",
    "$$\n",
    "\\operatorname{div} v=q \\quad \\text { and } \\quad\\|v\\|_{1, \\Omega} \\leq c\\|q\\|_{0, \\Omega}\n",
    "$$\n",
    "where $c=c(\\Omega)$ is a constant."
   ]
  },
  {
   "cell_type": "markdown",
   "metadata": {},
   "source": [
    "#### 现在unfitted情况下 $v$ 的范数增长到了extended的范数，但是右端的压力范数降低到了一个内部单元的weighted范数\n",
    "* 问题：一般的unfitted的inf-sup条件是怎么证明的？\n",
    "* 进一步：\n",
    "\\begin{align*}\n",
    "\\| v\\|_{ \\Omega^n}\\lesssim h \\| q\\|_{n,i}\n",
    "\\end{align*}\n",
    "这是一个非常不寻常的结论"
   ]
  },
  {
   "cell_type": "markdown",
   "metadata": {},
   "source": [
    "根据inf-sup条件，双线性型b的部分可以控制压力的interior部分，额外部分用penalty控制\n",
    "\\begin{align*}\n",
    "\\theta \\| q\\|_{ \\Omega^n}\\le \\sup_{v\\in V^n} \\frac{b^n(v,q)}{ \\| v\\|_{n,e}} + |q|_{J^n}\n",
    "\\end{align*}"
   ]
  },
  {
   "cell_type": "code",
   "execution_count": null,
   "metadata": {},
   "outputs": [],
   "source": []
  }
 ],
 "metadata": {
  "kernelspec": {
   "display_name": "Python 3 (ipykernel)",
   "language": "python",
   "name": "python3"
  },
  "language_info": {
   "codemirror_mode": {
    "name": "ipython",
    "version": 3
   },
   "file_extension": ".py",
   "mimetype": "text/x-python",
   "name": "python",
   "nbconvert_exporter": "python",
   "pygments_lexer": "ipython3",
   "version": "3.9.13"
  },
  "varInspector": {
   "cols": {
    "lenName": 16,
    "lenType": 16,
    "lenVar": 40
   },
   "kernels_config": {
    "python": {
     "delete_cmd_postfix": "",
     "delete_cmd_prefix": "del ",
     "library": "var_list.py",
     "varRefreshCmd": "print(var_dic_list())"
    },
    "r": {
     "delete_cmd_postfix": ") ",
     "delete_cmd_prefix": "rm(",
     "library": "var_list.r",
     "varRefreshCmd": "cat(var_dic_list()) "
    }
   },
   "types_to_exclude": [
    "module",
    "function",
    "builtin_function_or_method",
    "instance",
    "_Feature"
   ],
   "window_display": false
  }
 },
 "nbformat": 4,
 "nbformat_minor": 2
}
